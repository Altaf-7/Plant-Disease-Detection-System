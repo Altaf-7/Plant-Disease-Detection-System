{
 "cells": [
  {
   "cell_type": "markdown",
   "id": "49bf8aff-71a3-4de1-bdf7-e4eb037dee26",
   "metadata": {},
   "source": [
    "# Plant Disease Detection System \n",
    "---"
   ]
  },
  {
   "cell_type": "markdown",
   "id": "7c38a6b7-68eb-405d-8008-424ff01d22c2",
   "metadata": {},
   "source": [
    "## Loading & Initialization DataSet\n",
    "---\n",
    "\n",
    "* Download the Kaggle's New Plant Disease Dataset\n",
    "* Store it in path: \"JN/PlantLeafDetectionSystem/\"\n"
   ]
  },
  {
   "cell_type": "markdown",
   "id": "6c303064-0740-4b86-85ec-d86ca55f84eb",
   "metadata": {},
   "source": [
    "### Code to extract the data from zip file"
   ]
  },
  {
   "cell_type": "code",
   "execution_count": null,
   "id": "ad26ae79-70a0-4079-905e-2f4718d6fea9",
   "metadata": {},
   "outputs": [],
   "source": [
    "import zipfile\n",
    "import os\n",
    "\n",
    "zip_file_path = \"JN/PlantLeafDetectionSystem/archive.zip\"\n",
    "\n",
    "#checks if the zipfile exists\n",
    "if os.path.exists(zip_file_path)\n",
    "    try:\n",
    "        #extract all contents\n",
    "        with zipfile.ZipFile(zip_file_path, 'r') as zip_ref:\n",
    "            zip_ref.extractall()\n",
    "        print(f\"Succesfully extracted zip file in path {zip_file_path}\")\n",
    "except Exception as e:\n",
    "        print(f\"An error occured: {e}\")\n",
    "else:\n",
    "    print(f\"please check the zip file in the path {zip_file_path}\")\n"
   ]
  },
  {
   "cell_type": "markdown",
   "id": "958f8b23-d73f-4456-a351-bade00dd330b",
   "metadata": {},
   "source": [
    "\n",
    "### Image Augumentation\n",
    "---"
   ]
  },
  {
   "cell_type": "code",
   "execution_count": 40,
   "id": "d11ec0fb-2916-49c4-a870-5ddd3b41200f",
   "metadata": {},
   "outputs": [],
   "source": [
    "import numpy as np\n",
    "import pandas as pd\n",
    "import matplotlib.pyplot as plt\n",
    "import pathlib\n",
    "import os\n",
    "import glob as gb\n",
    "import glob\n",
    "# import cv2\n",
    "import tensorflow as tf"
   ]
  },
  {
   "cell_type": "code",
   "execution_count": 92,
   "id": "40f69b9c-7715-4a63-b112-e25394d8461d",
   "metadata": {},
   "outputs": [],
   "source": [
    "train = r\"C:\\Users\\altaf\\JN\\PlantLeafDetectionSystem\\New Plant Diseases Dataset(Augmented)\\New Plant Diseases Dataset(Augmented)\\train\""
   ]
  },
  {
   "cell_type": "code",
   "execution_count": 60,
   "id": "c5791183-fec4-4f53-a72c-c1ca88683cce",
   "metadata": {},
   "outputs": [],
   "source": [
    "size = 224"
   ]
  },
  {
   "cell_type": "code",
   "execution_count": 94,
   "id": "4c5fe42f-26e4-4a0b-bb4f-fcb0f699c4e4",
   "metadata": {},
   "outputs": [
    {
     "name": "stdout",
     "output_type": "stream",
     "text": [
      "Found 63283 images belonging to 38 classes.\n"
     ]
    }
   ],
   "source": [
    "train_generator = tf.keras.preprocessing.image.ImageDataGenerator(\n",
    "    rotation_range = 90,\n",
    "    width_shift_range = 0.0,\n",
    "    height_shift_range = 0.0,\n",
    "    shear_range = 0.0,\n",
    "    zoom_range = 0.0,\n",
    "    horizontal_flip = False,\n",
    "    vertical_flip = False,\n",
    "    rescale = 1/255.0,\n",
    "    preprocessing_function = None,\n",
    "    validation_split = 0.1,\n",
    ").flow_from_directory(train,\n",
    "                      batch_size = 164,\n",
    "                      target_size = (size,size),\n",
    "                      subset = \"training\",\n",
    "                      color_mode = \"rgb\",\n",
    "                      class_mode = \"categorical\",\n",
    "                      shuffle = True)"
   ]
  },
  {
   "cell_type": "code",
   "execution_count": 82,
   "id": "71a9ae00-149e-42ca-b5f0-bb3c42a782b0",
   "metadata": {},
   "outputs": [
    {
     "data": {
      "text/plain": [
       "{'Apple___Apple_scab': 0,\n",
       " 'Apple___Black_rot': 1,\n",
       " 'Apple___Cedar_apple_rust': 2,\n",
       " 'Apple___healthy': 3,\n",
       " 'Blueberry___healthy': 4,\n",
       " 'Cherry_(including_sour)___Powdery_mildew': 5,\n",
       " 'Cherry_(including_sour)___healthy': 6,\n",
       " 'Corn_(maize)___Cercospora_leaf_spot Gray_leaf_spot': 7,\n",
       " 'Corn_(maize)___Common_rust_': 8,\n",
       " 'Corn_(maize)___Northern_Leaf_Blight': 9,\n",
       " 'Corn_(maize)___healthy': 10,\n",
       " 'Grape___Black_rot': 11,\n",
       " 'Grape___Esca_(Black_Measles)': 12,\n",
       " 'Grape___Leaf_blight_(Isariopsis_Leaf_Spot)': 13,\n",
       " 'Grape___healthy': 14,\n",
       " 'Orange___Haunglongbing_(Citrus_greening)': 15,\n",
       " 'Peach___Bacterial_spot': 16,\n",
       " 'Peach___healthy': 17,\n",
       " 'Pepper,_bell___Bacterial_spot': 18,\n",
       " 'Pepper,_bell___healthy': 19,\n",
       " 'Potato___Early_blight': 20,\n",
       " 'Potato___Late_blight': 21,\n",
       " 'Potato___healthy': 22,\n",
       " 'Raspberry___healthy': 23,\n",
       " 'Soybean___healthy': 24,\n",
       " 'Squash___Powdery_mildew': 25,\n",
       " 'Strawberry___Leaf_scorch': 26,\n",
       " 'Strawberry___healthy': 27,\n",
       " 'Tomato___Bacterial_spot': 28,\n",
       " 'Tomato___Early_blight': 29,\n",
       " 'Tomato___Late_blight': 30,\n",
       " 'Tomato___Leaf_Mold': 31,\n",
       " 'Tomato___Septoria_leaf_spot': 32,\n",
       " 'Tomato___Spider_mites Two-spotted_spider_mite': 33,\n",
       " 'Tomato___Target_Spot': 34,\n",
       " 'Tomato___Tomato_Yellow_Leaf_Curl_Virus': 35,\n",
       " 'Tomato___Tomato_mosaic_virus': 36,\n",
       " 'Tomato___healthy': 37}"
      ]
     },
     "execution_count": 82,
     "metadata": {},
     "output_type": "execute_result"
    }
   ],
   "source": [
    "train_generator.class_indices"
   ]
  },
  {
   "cell_type": "code",
   "execution_count": 104,
   "id": "0aea1715-1e86-415a-92f4-2d0d94d9028b",
   "metadata": {},
   "outputs": [
    {
     "name": "stdout",
     "output_type": "stream",
     "text": [
      "Found 1742 images belonging to 38 classes.\n"
     ]
    }
   ],
   "source": [
    "valid = r\"C:\\Users\\altaf\\JN\\PlantLeafDetectionSystem\\New Plant Diseases Dataset(Augmented)\\New Plant Diseases Dataset(Augmented)\\valid\"\n",
    "\n",
    "valid_generator = tf.keras.preprocessing.image.ImageDataGenerator(\n",
    "    rescale = 1/255.0,\n",
    "    preprocessing_function = None,\n",
    "    validation_split = 0.1,\n",
    ").flow_from_directory(valid,\n",
    "                      batch_size = 164,\n",
    "                      target_size = (size,size),\n",
    "                      subset = \"validation\",\n",
    "                      color_mode = \"rgb\",\n",
    "                      class_mode = \"categorical\",\n",
    "                      shuffle = False)"
   ]
  },
  {
   "cell_type": "code",
   "execution_count": 102,
   "id": "fbf9bf53-abe5-4be7-90d0-6254f2653620",
   "metadata": {},
   "outputs": [
    {
     "name": "stdout",
     "output_type": "stream",
     "text": [
      "Found 33 images belonging to 1 classes.\n"
     ]
    }
   ],
   "source": [
    "test = r\"C:\\Users\\altaf\\JN\\PlantLeafDetectionSystem\\test\"\n",
    "\n",
    "test_generator = tf.keras.preprocessing.image.ImageDataGenerator(\n",
    "    rescale = 1/255.0,\n",
    "    preprocessing_function = None,\n",
    "    validation_split = 0.1,\n",
    ").flow_from_directory(test,\n",
    "                      batch_size = 164,\n",
    "                      target_size = (size,size),\n",
    "                      color_mode = \"rgb\",\n",
    "                      class_mode = \"categorical\",\n",
    "                      shuffle = False)"
   ]
  }
 ],
 "metadata": {
  "kernelspec": {
   "display_name": "Python 3 (ipykernel)",
   "language": "python",
   "name": "python3"
  },
  "language_info": {
   "codemirror_mode": {
    "name": "ipython",
    "version": 3
   },
   "file_extension": ".py",
   "mimetype": "text/x-python",
   "name": "python",
   "nbconvert_exporter": "python",
   "pygments_lexer": "ipython3",
   "version": "3.12.7"
  }
 },
 "nbformat": 4,
 "nbformat_minor": 5
}
